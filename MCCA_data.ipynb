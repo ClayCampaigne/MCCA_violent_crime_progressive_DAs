{
 "cells": [
  {
   "cell_type": "code",
   "execution_count": null,
   "metadata": {},
   "outputs": [],
   "source": [
    "import numpy as np\n",
    "import pandas as pd"
   ]
  },
  {
   "cell_type": "code",
   "execution_count": null,
   "metadata": {},
   "outputs": [],
   "source": [
    "dat = []"
   ]
  },
  {
   "cell_type": "code",
   "execution_count": null,
   "metadata": {},
   "outputs": [],
   "source": [
    "with open('MCCA_data_w_prog.txt') as fp:\n",
    "    lines = [line.replace(',','').strip().split('Police') for line in fp]"
   ]
  },
  {
   "cell_type": "code",
   "execution_count": null,
   "metadata": {},
   "outputs": [],
   "source": [
    "names = [line[0].rstrip(' ') for line in lines]\n",
    "numbers = [line[1].lstrip(' ') for line in lines]"
   ]
  },
  {
   "cell_type": "code",
   "execution_count": null,
   "metadata": {},
   "outputs": [],
   "source": [
    "numbers = [line.split(' ') for line in numbers]"
   ]
  },
  {
   "cell_type": "code",
   "execution_count": null,
   "metadata": {},
   "outputs": [],
   "source": [
    "rawdf = pd.DataFrame(numbers).astype(int)"
   ]
  },
  {
   "cell_type": "code",
   "execution_count": null,
   "metadata": {},
   "outputs": [],
   "source": [
    "df_2020 = rawdf[[0, 2, 4, 6]]\n",
    "df_2019 = rawdf[[1, 3, 5, 7]]\n",
    "df_2020.columns = df_2019.columns = ['homicide', 'rape', 'robbery', 'assault']"
   ]
  },
  {
   "cell_type": "code",
   "execution_count": null,
   "metadata": {},
   "outputs": [],
   "source": [
    "df_2019['prog_narrow'] = df_2020['prog_narrow'] = rawdf[8]\n",
    "df_2019['prog_broad'] = df_2020['prog_broad'] = rawdf[9]"
   ]
  },
  {
   "cell_type": "code",
   "execution_count": null,
   "metadata": {},
   "outputs": [],
   "source": [
    "df_2020.index = names\n",
    "df_2020.index.name = 'city'\n",
    "df_2019.index = names\n",
    "df_2019.index.name = 'city'"
   ]
  },
  {
   "cell_type": "code",
   "execution_count": null,
   "metadata": {},
   "outputs": [],
   "source": [
    "df_2020['violent_crime'] = df_2020[['homicide', 'rape', 'robbery', 'assault']].sum(axis='columns')\n",
    "df_2019['violent_crime'] = df_2019[['homicide', 'rape', 'robbery', 'assault']].sum(axis='columns')"
   ]
  },
  {
   "cell_type": "code",
   "execution_count": null,
   "metadata": {},
   "outputs": [],
   "source": [
    "df_2020_prog = df_2020[df_2020['prog_narrow']==1]\n",
    "df_2020_nonprog = df_2020[df_2020['prog_narrow']==0]\n",
    "df_2019_prog = df_2019[df_2019['prog_narrow']==1]\n",
    "df_2019_nonprog = df_2019[df_2019['prog_narrow']==0]"
   ]
  },
  {
   "cell_type": "code",
   "execution_count": null,
   "metadata": {},
   "outputs": [],
   "source": [
    "import matplotlib.pyplot as plt"
   ]
  },
  {
   "cell_type": "code",
   "execution_count": null,
   "metadata": {},
   "outputs": [],
   "source": [
    "fig, ax = plt.subplots()\n",
    "ax.scatter(df_2019_prog['violent_crime'], df_2020_prog['violent_crime'], color='blue')\n",
    "ax.scatter(df_2019_nonprog['violent_crime'], df_2020_nonprog['violent_crime'], color='red')\n"
   ]
  },
  {
   "cell_type": "code",
   "execution_count": null,
   "metadata": {},
   "outputs": [],
   "source": [
    "prog_ratios = df_2020_prog['violent_crime'] / df_2019_prog['violent_crime']\n",
    "nonprog_ratios = df_2020_nonprog['violent_crime'] / df_2019_nonprog['violent_crime']"
   ]
  },
  {
   "cell_type": "code",
   "execution_count": null,
   "metadata": {},
   "outputs": [],
   "source": [
    "fig,ax = plt.subplots()\n",
    "fig.suptitle('Violent Crime YoY Increase')\n",
    "ax.hist(prog_ratios, color='blue', alpha=0.5, label='non-progressive DA')\n",
    "ax.hist(nonprog_ratios, color='red', alpha=0.5, label = 'progressive DA')\n",
    "ax.legend()"
   ]
  },
  {
   "cell_type": "code",
   "execution_count": null,
   "metadata": {},
   "outputs": [],
   "source": [
    "(df_2020['violent_crime'] / df_2019['violent_crime']).std()"
   ]
  },
  {
   "cell_type": "code",
   "execution_count": null,
   "metadata": {},
   "outputs": [],
   "source": [
    "(df_2020_prog['violent_crime'] / df_2019_prog['violent_crime']).mean()"
   ]
  },
  {
   "cell_type": "code",
   "execution_count": null,
   "metadata": {},
   "outputs": [],
   "source": [
    "(df_2020_nonprog['violent_crime'] / df_2019_nonprog['violent_crime']).mean()"
   ]
  },
  {
   "cell_type": "code",
   "execution_count": null,
   "metadata": {},
   "outputs": [],
   "source": [
    "(df_2020_prog['violent_crime'] / df_2019_prog['violent_crime']).mean() -  (df_2020_nonprog['violent_crime'] / df_2019_nonprog['violent_crime']).mean()"
   ]
  },
  {
   "cell_type": "code",
   "execution_count": null,
   "metadata": {},
   "outputs": [],
   "source": [
    "df_2019.to_csv('data_2019.csv')\n",
    "df_2020.to_csv('data_2020.csv')"
   ]
  },
  {
   "cell_type": "code",
   "execution_count": null,
   "metadata": {},
   "outputs": [],
   "source": []
  }
 ],
 "metadata": {
  "@webio": {
   "lastCommId": null,
   "lastKernelId": null
  },
  "kernelspec": {
   "display_name": "Python 3",
   "language": "python",
   "name": "python3"
  },
  "language_info": {
   "codemirror_mode": {
    "name": "ipython",
    "version": 3
   },
   "file_extension": ".py",
   "mimetype": "text/x-python",
   "name": "python",
   "nbconvert_exporter": "python",
   "pygments_lexer": "ipython3",
   "version": "3.7.3"
  }
 },
 "nbformat": 4,
 "nbformat_minor": 2
}
