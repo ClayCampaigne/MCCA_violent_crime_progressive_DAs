{
 "cells": [
  {
   "cell_type": "code",
   "execution_count": null,
   "metadata": {},
   "outputs": [],
   "source": [
    "import numpy as np\n",
    "import pandas as pd\n",
    "import matplotlib.pyplot as plt"
   ]
  },
  {
   "cell_type": "code",
   "execution_count": null,
   "metadata": {},
   "outputs": [],
   "source": [
    "dat = []"
   ]
  },
  {
   "cell_type": "code",
   "execution_count": null,
   "metadata": {},
   "outputs": [],
   "source": [
    "with open('MCCA_data_w_prog.txt') as fp:\n",
    "    lines = [line.replace(',','').strip().split('Police') for line in fp]"
   ]
  },
  {
   "cell_type": "code",
   "execution_count": null,
   "metadata": {},
   "outputs": [],
   "source": [
    "names = [line[0].rstrip(' ') for line in lines]\n",
    "numbers = [line[1].lstrip(' ') for line in lines]"
   ]
  },
  {
   "cell_type": "code",
   "execution_count": null,
   "metadata": {},
   "outputs": [],
   "source": [
    "numbers = [line.split(' ') for line in numbers]"
   ]
  },
  {
   "cell_type": "code",
   "execution_count": null,
   "metadata": {},
   "outputs": [],
   "source": [
    "rawdf = pd.DataFrame(numbers).astype(int)"
   ]
  },
  {
   "cell_type": "code",
   "execution_count": null,
   "metadata": {},
   "outputs": [],
   "source": [
    "df_2020 = rawdf[[0, 2, 4, 6]]\n",
    "df_2019 = rawdf[[1, 3, 5, 7]]\n",
    "df_2020.columns = df_2019.columns = ['homicide', 'rape', 'robbery', 'assault']"
   ]
  },
  {
   "cell_type": "code",
   "execution_count": null,
   "metadata": {},
   "outputs": [],
   "source": [
    "df_2019['prog_narrow'] = df_2020['prog_narrow'] = rawdf[8]\n",
    "df_2019['prog_broad'] = df_2020['prog_broad'] = rawdf[9]"
   ]
  },
  {
   "cell_type": "code",
   "execution_count": null,
   "metadata": {},
   "outputs": [],
   "source": [
    "df_2020.index = names\n",
    "df_2020.index.name = 'city'\n",
    "df_2019.index = names\n",
    "df_2019.index.name = 'city'"
   ]
  },
  {
   "cell_type": "code",
   "execution_count": null,
   "metadata": {},
   "outputs": [],
   "source": [
    "df_2020['violent_crime'] = df_2020[['homicide', 'rape', 'robbery', 'assault']].sum(axis='columns')\n",
    "df_2019['violent_crime'] = df_2019[['homicide', 'rape', 'robbery', 'assault']].sum(axis='columns')"
   ]
  },
  {
   "cell_type": "code",
   "execution_count": null,
   "metadata": {},
   "outputs": [],
   "source": [
    "(df_2020['violent_crime'] / df_2019['violent_crime']).mean()"
   ]
  },
  {
   "cell_type": "code",
   "execution_count": null,
   "metadata": {},
   "outputs": [],
   "source": [
    "df_2020_prog_narrow = df_2020[df_2020['prog_narrow']==1]\n",
    "df_2020_nonprog_narrow = df_2020[df_2020['prog_narrow']==0]\n",
    "df_2019_prog_narrow = df_2019[df_2019['prog_narrow']==1]\n",
    "df_2019_nonprog_narrow = df_2019[df_2019['prog_narrow']==0]"
   ]
  },
  {
   "cell_type": "code",
   "execution_count": null,
   "metadata": {},
   "outputs": [],
   "source": [
    "df_2020_prog_narrow['violent_crime'].sum() / df_2019_prog_narrow['violent_crime'].sum()"
   ]
  },
  {
   "cell_type": "code",
   "execution_count": null,
   "metadata": {},
   "outputs": [],
   "source": [
    "fig, ax = plt.subplots(figsize=(16,16))\n",
    "ax.scatter(df_2019_prog_narrow['homicide'], df_2020_prog_narrow['homicide'], color='blue', label = 'progressive DA')\n",
    "ax.scatter(df_2019_nonprog_narrow['homicide'], df_2020_nonprog_narrow['homicide'], color='red', label= 'non-progressive DA')\n",
    "ax.plot([0,700],[0,700])\n",
    "ax.set_xlabel('# homicides 2019')\n",
    "ax.set_ylabel('# homicides 2020')\n",
    "for i, txt in enumerate(df_2020.reset_index()['city']):\n",
    "    plt.annotate(txt[0:4], ((df_2019.loc[df_2019.index[i],'homicide']), (df_2020.loc[df_2020.index[i], 'homicide'])))\n",
    "\n",
    "ax.legend()\n",
    "fig.suptitle('Homocides in 2020 vs Homicides in 2019, progressive v non-progressive DAs', fontsize=20)\n",
    "fig.tight_layout()"
   ]
  },
  {
   "cell_type": "code",
   "execution_count": null,
   "metadata": {},
   "outputs": [],
   "source": [
    "prog_ratios = df_2020_prog_narrow['violent_crime'] / df_2019_prog_narrow['violent_crime']\n",
    "nonprog_ratios = df_2020_nonprog_narrow['violent_crime'] / df_2019_nonprog_narrow['violent_crime']"
   ]
  },
  {
   "cell_type": "code",
   "execution_count": null,
   "metadata": {},
   "outputs": [],
   "source": [
    "prog_hom_ratios = df_2020_prog_narrow['homicide'] / df_2019_prog_narrow['homicide']\n",
    "nonprog_hom_ratios = df_2020_nonprog_narrow['homicide'] / df_2019_nonprog_narrow['homicide']"
   ]
  },
  {
   "cell_type": "code",
   "execution_count": null,
   "metadata": {},
   "outputs": [],
   "source": [
    "fig,ax = plt.subplots()\n",
    "fig.suptitle('Homicide YoY Increase')\n",
    "ax.hist(prog_hom_ratios, color='blue', alpha=0.5, label='progressive DA')\n",
    "ax.hist(nonprog_hom_ratios, color='red', alpha=0.5, label = 'non-progressive DA')\n",
    "ax.legend()"
   ]
  },
  {
   "cell_type": "markdown",
   "metadata": {},
   "source": [
    "# It makes more sense to compare sums than means"
   ]
  },
  {
   "cell_type": "code",
   "execution_count": null,
   "metadata": {},
   "outputs": [],
   "source": [
    "df_2020['homicide'].sum() / df_2019['homicide'].sum()"
   ]
  },
  {
   "cell_type": "code",
   "execution_count": null,
   "metadata": {},
   "outputs": [],
   "source": [
    "df_2020['violent_crime'].sum() / df_2019['violent_crime'].sum()"
   ]
  },
  {
   "cell_type": "markdown",
   "metadata": {},
   "source": [
    "### Increase in homicides in narrow-progressive DA jurisdictions is 36%, violent crime is up 4.5%"
   ]
  },
  {
   "cell_type": "code",
   "execution_count": null,
   "metadata": {},
   "outputs": [],
   "source": [
    "df_2020_prog_narrow['homicide'].sum() / df_2019_prog_narrow['homicide'].sum()"
   ]
  },
  {
   "cell_type": "code",
   "execution_count": null,
   "metadata": {},
   "outputs": [],
   "source": [
    "df_2020_prog_narrow['violent_crime'].sum() / df_2019_prog_narrow['violent_crime'].sum()"
   ]
  },
  {
   "cell_type": "markdown",
   "metadata": {},
   "source": [
    "### Homicides in broad-progressive DA juristictions is up 34%, violent crime is up 4.5%"
   ]
  },
  {
   "cell_type": "code",
   "execution_count": null,
   "metadata": {},
   "outputs": [],
   "source": [
    "df_2020.loc[df_2020['prog_broad']==1, 'homicide'].sum() / df_2019.loc[df_2019['prog_broad']==1, 'homicide'].sum()"
   ]
  },
  {
   "cell_type": "code",
   "execution_count": null,
   "metadata": {},
   "outputs": [],
   "source": [
    "df_2020.loc[df_2020['prog_broad']==1, 'violent_crime'].sum() / df_2019.loc[df_2019['prog_broad']==1, 'violent_crime'].sum()"
   ]
  },
  {
   "cell_type": "markdown",
   "metadata": {},
   "source": [
    "### Increase in homicides in non-narrow-progressive DA jurisdictions is 30%, violent crime is up 4.8%"
   ]
  },
  {
   "cell_type": "code",
   "execution_count": null,
   "metadata": {},
   "outputs": [],
   "source": [
    "df_2020_nonprog_narrow['homicide'].sum() / df_2019_nonprog_narrow['homicide'].sum()"
   ]
  },
  {
   "cell_type": "code",
   "execution_count": null,
   "metadata": {},
   "outputs": [],
   "source": [
    "df_2020_nonprog_narrow['violent_crime'].sum() / df_2019_nonprog_narrow['violent_crime'].sum()"
   ]
  },
  {
   "cell_type": "markdown",
   "metadata": {},
   "source": [
    "### Homicides in non-broad-nonprogressive DA juristictions is up 32%, violent crime is up 4.9%"
   ]
  },
  {
   "cell_type": "code",
   "execution_count": null,
   "metadata": {},
   "outputs": [],
   "source": [
    "df_2020.loc[df_2020['prog_broad']==0, 'homicide'].sum() / df_2019.loc[df_2019['prog_broad']==0, 'homicide'].sum()"
   ]
  },
  {
   "cell_type": "code",
   "execution_count": null,
   "metadata": {},
   "outputs": [],
   "source": [
    "df_2020.loc[df_2020['prog_broad']==0, 'violent_crime'].sum() / df_2019.loc[df_2019['prog_broad']==0, 'violent_crime'].sum()"
   ]
  },
  {
   "cell_type": "markdown",
   "metadata": {},
   "source": [
    "# Differences:"
   ]
  },
  {
   "cell_type": "code",
   "execution_count": null,
   "metadata": {},
   "outputs": [],
   "source": [
    "df_2020['homicide'].sum() - df_2019['homicide'].sum()"
   ]
  },
  {
   "cell_type": "code",
   "execution_count": null,
   "metadata": {},
   "outputs": [],
   "source": []
  },
  {
   "cell_type": "code",
   "execution_count": null,
   "metadata": {},
   "outputs": [],
   "source": [
    "# df_2019.to_csv('data_2019.csv')\n",
    "# df_2020.to_csv('data_2020.csv')"
   ]
  },
  {
   "cell_type": "code",
   "execution_count": null,
   "metadata": {},
   "outputs": [],
   "source": [
    "df_2020/df_2019"
   ]
  },
  {
   "cell_type": "code",
   "execution_count": null,
   "metadata": {},
   "outputs": [],
   "source": []
  }
 ],
 "metadata": {
  "@webio": {
   "lastCommId": null,
   "lastKernelId": null
  },
  "kernelspec": {
   "display_name": "Python 3",
   "language": "python",
   "name": "python3"
  },
  "language_info": {
   "codemirror_mode": {
    "name": "ipython",
    "version": 3
   },
   "file_extension": ".py",
   "mimetype": "text/x-python",
   "name": "python",
   "nbconvert_exporter": "python",
   "pygments_lexer": "ipython3",
   "version": "3.7.3"
  }
 },
 "nbformat": 4,
 "nbformat_minor": 2
}
